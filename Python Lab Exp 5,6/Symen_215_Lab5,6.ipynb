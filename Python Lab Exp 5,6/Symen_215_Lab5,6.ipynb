{
 "cells": [
  {
   "cell_type": "code",
   "execution_count": 3,
   "metadata": {},
   "outputs": [
    {
     "name": "stdout",
     "output_type": "stream",
     "text": [
      "Error:  division by zero <class 'ZeroDivisionError'>\n"
     ]
    }
   ],
   "source": [
    "try:\n",
    "    a = 5\n",
    "    b = 0\n",
    "    print (a/b)\n",
    "except Exception as e:\n",
    "    print (\"Error: \", e, e.__class__)"
   ]
  },
  {
   "cell_type": "code",
   "execution_count": 5,
   "metadata": {},
   "outputs": [
    {
     "name": "stdout",
     "output_type": "stream",
     "text": [
      "Error list index out of range <class 'IndexError'>\n"
     ]
    }
   ],
   "source": [
    "try:\n",
    "    list1 = [1, 2, 3]\n",
    "    print(list1[4])\n",
    "except IndexError as e:\n",
    "    print(\"Error\", e, e.__class__)"
   ]
  },
  {
   "cell_type": "code",
   "execution_count": 20,
   "metadata": {},
   "outputs": [],
   "source": [
    "import re\n",
    "\n",
    "def find_phone_number(text):\n",
    "    pattern = r'\\d{3}-\\d{3}-\\d{4}|\\(\\d{3}\\)-\\d{3}-\\d{4}'\n",
    "    matches = re.findall(pattern, text)\n",
    "    \n",
    "    if matches:\n",
    "        return matches\n",
    "    else:\n",
    "        return \"No valid phone number found\"\n",
    "    \n",
    "input_text = input(\"Enter the Phone number: \")\n",
    "print(\"The Phone number entered = \",input_text)\n",
    "result = find_phone_number(input_text)\n",
    "print(\"Found phone number:\", result)"
   ]
  },
  {
   "cell_type": "code",
   "execution_count": 14,
   "metadata": {},
   "outputs": [
    {
     "name": "stdout",
     "output_type": "stream",
     "text": [
      "The password is strong\n"
     ]
    }
   ],
   "source": [
    "import re\n",
    "\n",
    "def strong_passwd(passwd):\n",
    "    passwd_re = re.compile(r\"^(?=.*[a-z])(?=.*[A-Z])(?=.*[0-9])(?=.*[@#$%^*]).{8,}$\")\n",
    "\n",
    "    if passwd_re.search(passwd):\n",
    "        return True\n",
    "    else:\n",
    "        return False\n",
    "\n",
    "password = \"Christ@123\"\n",
    "\n",
    "if strong_passwd(password):\n",
    "    print(\"The password is strong\")\n",
    "else:\n",
    "    print(\"The password is not strong\")"
   ]
  }
 ],
 "metadata": {
  "kernelspec": {
   "display_name": "Python 3",
   "language": "python",
   "name": "python3"
  },
  "language_info": {
   "codemirror_mode": {
    "name": "ipython",
    "version": 3
   },
   "file_extension": ".py",
   "mimetype": "text/x-python",
   "name": "python",
   "nbconvert_exporter": "python",
   "pygments_lexer": "ipython3",
   "version": "3.11.4"
  },
  "orig_nbformat": 4
 },
 "nbformat": 4,
 "nbformat_minor": 2
}
