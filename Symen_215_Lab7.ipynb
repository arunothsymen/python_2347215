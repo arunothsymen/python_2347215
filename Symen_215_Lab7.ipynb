{
 "cells": [
  {
   "cell_type": "markdown",
   "metadata": {},
   "source": [
    "Q1. Create two 3×3 matrices using the random function in Numpy and perform the following operations.\n",
    "\n",
    "Product (prod)\n",
    "Multiplication (multiply)\n",
    "Dot Product (dot)"
   ]
  },
  {
   "cell_type": "code",
   "execution_count": 3,
   "metadata": {},
   "outputs": [
    {
     "name": "stdout",
     "output_type": "stream",
     "text": [
      "Array1 : \n",
      " [[3 3 3]\n",
      " [1 3 4]\n",
      " [1 1 2]]\n",
      "Array2 : \n",
      " [[4 4 1]\n",
      " [2 2 5]\n",
      " [3 2 4]]\n",
      "Multiply : \n",
      " [[12 12  3]\n",
      " [ 2  6 20]\n",
      " [ 3  2  8]]\n",
      "Product : \n",
      " 4976640\n",
      "Dot : \n",
      " [[27 24 30]\n",
      " [22 18 32]\n",
      " [12 10 14]]\n"
     ]
    }
   ],
   "source": [
    "import numpy as np\n",
    "arr1=np.random.randint(1,5,(3,3))\n",
    "arr2=np.random.randint(1,6,(3,3))\n",
    "print(\"Array1 : \\n\",arr1)\n",
    "print(\"Array2 : \\n\",arr2)\n",
    "print(\"Multiply : \\n\",np.multiply(arr1,arr2))\n",
    "print(\"Product : \\n\",np.prod([arr1,arr2]))\n",
    "print(\"Dot : \\n\",np.dot(arr1,arr2))"
   ]
  },
  {
   "cell_type": "markdown",
   "metadata": {},
   "source": [
    "Q2. Perform the following set operations using the Numpy functions.\n",
    "\n",
    "Union\n",
    "Intersection\n",
    "Set difference\n",
    "XOR"
   ]
  },
  {
   "cell_type": "code",
   "execution_count": 4,
   "metadata": {},
   "outputs": [
    {
     "name": "stdout",
     "output_type": "stream",
     "text": [
      "Union :  [1 2 3 4 5 6]\n",
      "Intersection :  [3 4]\n",
      "Set Difference :  [1 2]\n",
      "XOR :  [1 2 5 6]\n"
     ]
    }
   ],
   "source": [
    "import numpy as np\n",
    "arr1=np.array([1,2,3,4])\n",
    "arr2=np.array([3,4,5,6])\n",
    "print(\"Union : \",np.union1d(arr1,arr2))\n",
    "\n",
    "print(\"Intersection : \",np.intersect1d(arr1,arr2))\n",
    "\n",
    "print(\"Set Difference : \",np.setdiff1d(arr1,arr2))\n",
    "\n",
    "print(\"XOR : \",np.setxor1d(arr1,arr2))"
   ]
  },
  {
   "cell_type": "markdown",
   "metadata": {},
   "source": [
    "Q3. Create a 1D array using Random function and perform the following operations.\n",
    "\n",
    "Cumulative sum\n",
    "Cumulative Product\n",
    "Discrete difference (with n=3)\n",
    "Find the unique elements from the array"
   ]
  },
  {
   "cell_type": "code",
   "execution_count": 5,
   "metadata": {},
   "outputs": [
    {
     "name": "stdout",
     "output_type": "stream",
     "text": [
      "[4 2 2 8 1 5 2 4 3 5]\n",
      "Cumulative sum :  [ 4  6  8 16 17 22 24 28 31 36]\n",
      "Cumulative Product :  [    4     8    16   128   128   640  1280  5120 15360 76800]\n",
      "Discrete difference (with n=3) :  [  4 -19  24 -18  12  -8   6]\n",
      "The unique elements from the array :  [1 2 3 4 5 8]\n"
     ]
    }
   ],
   "source": [
    "import numpy as np\n",
    "arr1=np.random.randint(10 ,size=10)\n",
    "print(arr1)\n",
    "print(\"Cumulative sum : \",np.cumsum(arr1))\n",
    "print(\"Cumulative Product : \",np.cumprod(arr1))\n",
    "print(\"Discrete difference (with n=3) : \",np.diff(arr1, n=3))\n",
    "print(\"The unique elements from the array : \",np.unique(arr1))"
   ]
  },
  {
   "cell_type": "markdown",
   "metadata": {},
   "source": [
    "Q4. Create two 1D array and perform the Addition using zip(), add() and user defined function (frompyfunc())"
   ]
  },
  {
   "cell_type": "code",
   "execution_count": 6,
   "metadata": {},
   "outputs": [
    {
     "name": "stdout",
     "output_type": "stream",
     "text": [
      "[4, 6, 8, 10]\n",
      "[ 4  6  8 10]\n",
      "[4 6 8 10]\n"
     ]
    }
   ],
   "source": [
    "import numpy as np\n",
    "arr1=np.array([1,2,3,4])\n",
    "arr2=np.array([3,4,5,6])\n",
    "z=[]\n",
    "for i,j in zip(arr1,arr2):\n",
    "    z.append(i+j)\n",
    "print(z)\n",
    "\n",
    "print(np.add(arr1,arr2))\n",
    "\n",
    "def adds(x,y):\n",
    "    return x+y\n",
    "result=np.frompyfunc(adds,2,1)\n",
    "print(result(arr1,arr2))"
   ]
  },
  {
   "cell_type": "markdown",
   "metadata": {},
   "source": [
    "Q5. Find the LCM (Least Common Multiple) and GCD (Greatest Common Divisor) of an array of elements using reduce()."
   ]
  },
  {
   "cell_type": "code",
   "execution_count": 7,
   "metadata": {},
   "outputs": [
    {
     "name": "stdout",
     "output_type": "stream",
     "text": [
      "LCM :  [[1 2 3 4]]\n",
      "GCD :  5\n"
     ]
    }
   ],
   "source": [
    "import numpy as np\n",
    "arr1=np.array([[[1,2,3,4]]])\n",
    "arr2=np.array([5,25,15,10])\n",
    "print(\"LCM : \",np.lcm.reduce(arr1))\n",
    "print(\"GCD : \",np.gcd.reduce(arr2))"
   ]
  }
 ],
 "metadata": {
  "kernelspec": {
   "display_name": "Python 3",
   "language": "python",
   "name": "python3"
  },
  "language_info": {
   "codemirror_mode": {
    "name": "ipython",
    "version": 3
   },
   "file_extension": ".py",
   "mimetype": "text/x-python",
   "name": "python",
   "nbconvert_exporter": "python",
   "pygments_lexer": "ipython3",
   "version": "3.11.4"
  },
  "orig_nbformat": 4
 },
 "nbformat": 4,
 "nbformat_minor": 2
}
