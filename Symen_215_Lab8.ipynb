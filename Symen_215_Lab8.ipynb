{
 "cells": [
  {
   "cell_type": "code",
   "execution_count": 9,
   "metadata": {},
   "outputs": [
    {
     "name": "stdout",
     "output_type": "stream",
     "text": [
      "The word 'game' appears 1 times in the paragraph.\n"
     ]
    }
   ],
   "source": [
    "def count_word_frequency(paragraph,target_word):\n",
    "    words = paragraph.split()\n",
    "    word_count = 0\n",
    "    for word in words:\n",
    "        cleaned_word=word.strip(\".,!?\").lower()\n",
    "        if cleaned_word==target_word.lower():\n",
    "           word_count+=1\n",
    "    return word_count\n",
    "paragraph=\"Online game rental store is a website where the customers can rent games for a specific period of time. The users will be unable to acces the games after a limited period of time\"\n",
    "word=input(\"Enter the word to be searched : \")           \n",
    "target_word=word\n",
    "frequency=count_word_frequency(paragraph,target_word)\n",
    "print(f\"The word '{target_word}' appears {frequency} times in the paragraph.\")\n"
   ]
  },
  {
   "cell_type": "code",
   "execution_count": 10,
   "metadata": {},
   "outputs": [
    {
     "name": "stdout",
     "output_type": "stream",
     "text": [
      "Element:name | Value:Rojal Treesa Joy|Data Type:str\n",
      "Element:Register_no | Value:2347249|Data Type:str\n",
      "Element:Domain_Name | Value:Online Game Rental Store|Data Type:str\n",
      "Element:Year | Value:2023|Data Type:str\n"
     ]
    }
   ],
   "source": [
    "def identify_datatypes(paragraph,selected_elements):\n",
    "    for element in selected_elements:\n",
    "        if element in paragraph:\n",
    "            value=paragraph[element]\n",
    "            data_types=type(value).__name__\n",
    "            print(f\"Element:{element} | Value:{value}|Data Type:{data_types}\")\n",
    "paragraph={\n",
    "    \"name\":\"Rojal Treesa Joy\",\n",
    "    \"Register_no\":\"2347249\",\n",
    "    \"Domain_Name\":\"Online Game Rental Store\",\n",
    "    \"Year\":\"2023\"\n",
    "           }\n",
    "selected_elements=[\"name\",\"Register_no\",\"Domain_Name\",\"Year\"]\n",
    "identify_datatypes(paragraph,selected_elements)"
   ]
  },
  {
   "cell_type": "code",
   "execution_count": 7,
   "metadata": {},
   "outputs": [
    {
     "name": "stdout",
     "output_type": "stream",
     "text": [
      "Number of Alpha=144\n",
      "Number of numbers/Nummeric digits:0\n",
      "Number of Special Charcters:34\n"
     ]
    }
   ],
   "source": [
    "def count_symbols(paragraph):\n",
    "    alphabets=0\n",
    "    digits=0\n",
    "    special_symbols=0\n",
    "    for char in paragraph:\n",
    "        if char.isalpha():\n",
    "            alphabets+=1\n",
    "        elif char.isdigit():\n",
    "            digits+=1\n",
    "        else:\n",
    "            special_symbols+=1\n",
    "    return alphabets,digits,special_symbols\n",
    "paragraph=\"Online game rental store is a website where the customers can rent games for a specific period of time. The users will be unable to acces the games after a limited period of time\"\n",
    "           \n",
    "alphabets_counts,digital_count,special_symbols_count=count_symbols(paragraph)\n",
    "print(f\"Number of Alpha={alphabets_counts}\")\n",
    "print(f\"Number of numbers/Nummeric digits:{digital_count}\")\n",
    "print(f\"Number of Special Charcters:{special_symbols_count}\")"
   ]
  },
  {
   "cell_type": "code",
   "execution_count": 6,
   "metadata": {},
   "outputs": [
    {
     "name": "stdout",
     "output_type": "stream",
     "text": [
      "{1, 'A27', 'ram', 2015}\n",
      "1\n",
      "{'A27', 'ram', 2015}\n",
      "None\n",
      "{'ram', 2015}\n",
      "set()\n",
      "{1, 'A27', 'ram', 2015}\n"
     ]
    }
   ],
   "source": [
    "setss={1,'ram','A27',2015}\n",
    "print(setss)\n",
    "pop=setss.pop()\n",
    "print(pop)\n",
    "print(setss)\n",
    "dis=setss.discard('A27')\n",
    "print(dis)\n",
    "print(setss)\n",
    "setss.clear()\n",
    "print(setss)\n",
    "del setss\n",
    "\n",
    "setss={1,'ram','A27',2015}\n",
    "print(setss)"
   ]
  },
  {
   "cell_type": "code",
   "execution_count": 11,
   "metadata": {},
   "outputs": [
    {
     "name": "stdout",
     "output_type": "stream",
     "text": [
      "{'C5', 1, 'C4', 'ram', 'C3', 'C2', 'C1', 'C6', 'A27', 2015}\n",
      "The set 'value' in set in decending order:  ['ram', 'C6', 'C5', 'C4', 'C3', 'C2', 'C1', 'A27']\n"
     ]
    }
   ],
   "source": [
    "setss_update={'C1','C2','C3','C4','C5','C6'}\n",
    " \n",
    "setss.update(setss_update)\n",
    "print(setss)\n",
    "\n",
    "value={'C6', 'C2', 'C5', 'C4', 'ram', 'A27', 'C3', 'C1'}\n",
    "set_desenting=sorted(value,reverse=True)\n",
    "print(\"The set 'value' in set in decending order: \",set_desenting)"
   ]
  },
  {
   "cell_type": "code",
   "execution_count": 12,
   "metadata": {},
   "outputs": [
    {
     "name": "stdout",
     "output_type": "stream",
     "text": [
      "Number of ' o ' in the string is :  2\n"
     ]
    }
   ],
   "source": [
    "domain=('o','n','l','i','n','e', 'g','a','m','e', 'r','e','n','t','a','l', 's','t','o','r','e')\n",
    "count=0\n",
    "n=input(\"The character to be counted : \")\n",
    "for i in domain:\n",
    "    if i==n:\n",
    "        count+=1\n",
    "print(\"Number of '\",n,\"' in the string is : \", count)"
   ]
  },
  {
   "cell_type": "code",
   "execution_count": 13,
   "metadata": {},
   "outputs": [
    {
     "name": "stdout",
     "output_type": "stream",
     "text": [
      "online game rental store\n",
      "The 'Domain' string after negative slicing :  l sto\n",
      "The 'Domain' string after slicing :  online g\n"
     ]
    }
   ],
   "source": [
    "domain='online game rental store'\n",
    "print(domain)\n",
    "print(\"The 'Domain' string after negative slicing : \",domain[-7:-2])\n",
    "print(\"The 'Domain' string after slicing : \",domain[slice(8)])"
   ]
  }
 ],
 "metadata": {
  "kernelspec": {
   "display_name": "Python 3",
   "language": "python",
   "name": "python3"
  },
  "language_info": {
   "codemirror_mode": {
    "name": "ipython",
    "version": 3
   },
   "file_extension": ".py",
   "mimetype": "text/x-python",
   "name": "python",
   "nbconvert_exporter": "python",
   "pygments_lexer": "ipython3",
   "version": "3.10.11"
  },
  "orig_nbformat": 4
 },
 "nbformat": 4,
 "nbformat_minor": 2
}
